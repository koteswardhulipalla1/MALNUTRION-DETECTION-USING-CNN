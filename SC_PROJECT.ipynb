{
  "cells": [
    {
      "cell_type": "markdown",
      "metadata": {
        "id": "view-in-github",
        "colab_type": "text"
      },
      "source": [
        "<a href=\"https://colab.research.google.com/github/koteswardhulipalla1/MALNUTRION-DETECTION-USING-CNN/blob/main/SC_PROJECT.ipynb\" target=\"_parent\"><img src=\"https://colab.research.google.com/assets/colab-badge.svg\" alt=\"Open In Colab\"/></a>"
      ]
    },
    {
      "cell_type": "code",
      "execution_count": null,
      "metadata": {
        "colab": {
          "base_uri": "https://localhost:8080/"
        },
        "id": "Bb0QVLlYj_PA",
        "outputId": "7ee6aff9-090c-40bd-fe23-f0a1f46b4868"
      },
      "outputs": [
        {
          "output_type": "stream",
          "name": "stdout",
          "text": [
            "Extracted /content/malnutrion dataset (2).zip to content\n"
          ]
        }
      ],
      "source": [
        "import zipfile\n",
        "import os\n",
        "\n",
        "# Path to the original zip file containing both train and valid data\n",
        "original_zip_path = '/content/malnutrion dataset (2).zip'  # Change this to the actual path\n",
        "extracted_dir = 'content'  # Path where you want to unzip the dataset\n",
        "\n",
        "# Function to unzip the original file\n",
        "def unzip_original_file(zip_path, extract_to):\n",
        "    with zipfile.ZipFile(zip_path, 'r') as zip_ref:\n",
        "        zip_ref.extractall(extract_to)\n",
        "    print(f\"Extracted {zip_path} to {extract_to}\")\n",
        "\n",
        "# Unzip the original file\n",
        "unzip_original_file(original_zip_path, extracted_dir)\n"
      ]
    },
    {
      "cell_type": "code",
      "execution_count": null,
      "metadata": {
        "colab": {
          "base_uri": "https://localhost:8080/"
        },
        "id": "FQWKGvPikPpG",
        "outputId": "d22da358-4611-4229-9470-17cc0fff1b2c"
      },
      "outputs": [
        {
          "output_type": "stream",
          "name": "stdout",
          "text": [
            "Extracted /content/content/Train.zip to path_to_train_data\n",
            "Extracted /content/content/valid.zip to path_to_valid_data\n"
          ]
        }
      ],
      "source": [
        "import zipfile\n",
        "import os\n",
        "\n",
        "# Paths to the zip files\n",
        "train_zip_path = '/content/content/Train.zip'  # Replace with the actual path\n",
        "valid_zip_path = '/content/content/valid.zip'  # Replace with the actual path\n",
        "\n",
        "# Directories where you want to extract the contents\n",
        "train_extract_dir = 'path_to_train_data'  # Directory to extract train data\n",
        "valid_extract_dir = 'path_to_valid_data'  # Directory to extract valid data\n",
        "\n",
        "# Function to unzip a file\n",
        "def unzip_file(zip_path, extract_to):\n",
        "    with zipfile.ZipFile(zip_path, 'r') as zip_ref:\n",
        "        zip_ref.extractall(extract_to)\n",
        "    print(f\"Extracted {zip_path} to {extract_to}\")\n",
        "\n",
        "# Unzip the train and valid files\n",
        "unzip_file(train_zip_path, train_extract_dir)\n",
        "unzip_file(valid_zip_path, valid_extract_dir)\n"
      ]
    },
    {
      "cell_type": "code",
      "execution_count": null,
      "metadata": {
        "colab": {
          "base_uri": "https://localhost:8080/"
        },
        "id": "bQeBkXnakjMh",
        "outputId": "b397cdf6-97a3-49ed-aa18-42eb7a6cb13c"
      },
      "outputs": [
        {
          "output_type": "stream",
          "name": "stdout",
          "text": [
            "Found 172 images belonging to 2 classes.\n",
            "Found 25 images belonging to 2 classes.\n"
          ]
        }
      ],
      "source": [
        "from tensorflow.keras.preprocessing.image import ImageDataGenerator\n",
        "\n",
        "# Parameters\n",
        "IMG_HEIGHT = 227\n",
        "IMG_WIDTH = 227\n",
        "BATCH_SIZE = 32\n",
        "\n",
        "# Directories for train and valid data\n",
        "train_dir = train_extract_dir\n",
        "valid_dir = valid_extract_dir\n",
        "\n",
        "# ImageDataGenerators for rescaling\n",
        "train_datagen = ImageDataGenerator(rescale=1./255)\n",
        "valid_datagen = ImageDataGenerator(rescale=1./255)\n",
        "\n",
        "# Create train and validation generators\n",
        "train_generator = train_datagen.flow_from_directory(\n",
        "    train_dir,\n",
        "    target_size=(IMG_HEIGHT, IMG_WIDTH),\n",
        "    batch_size=BATCH_SIZE,\n",
        "    class_mode='binary',  # Change to 'categorical' for multi-class classification\n",
        ")\n",
        "\n",
        "valid_generator = valid_datagen.flow_from_directory(\n",
        "    valid_dir,\n",
        "    target_size=(IMG_HEIGHT, IMG_WIDTH),\n",
        "    batch_size=BATCH_SIZE,\n",
        "    class_mode='binary',  # Change to 'categorical' for multi-class classification\n",
        ")\n"
      ]
    },
    {
      "cell_type": "code",
      "execution_count": null,
      "metadata": {
        "colab": {
          "base_uri": "https://localhost:8080/"
        },
        "id": "KmtsudVTk4GL",
        "outputId": "dd35c28b-97ba-439d-c3b0-a1ab1de987b3"
      },
      "outputs": [
        {
          "output_type": "stream",
          "name": "stderr",
          "text": [
            "/usr/local/lib/python3.10/dist-packages/keras/src/layers/convolutional/base_conv.py:107: UserWarning: Do not pass an `input_shape`/`input_dim` argument to a layer. When using Sequential models, prefer using an `Input(shape)` object as the first layer in the model instead.\n",
            "  super().__init__(activity_regularizer=activity_regularizer, **kwargs)\n"
          ]
        }
      ],
      "source": [
        "  from tensorflow.keras.models import Sequential\n",
        "from tensorflow.keras.layers import Conv2D, MaxPooling2D, Flatten, Dense, Dropout, BatchNormalization\n",
        "\n",
        "# Define the AlexNet model architecture\n",
        "def build_alexnet(input_shape):\n",
        "    model = Sequential([\n",
        "        Conv2D(96, kernel_size=(11, 11), strides=4, activation='relu', input_shape=input_shape),\n",
        "        BatchNormalization(),\n",
        "        MaxPooling2D(pool_size=(3, 3), strides=2),\n",
        "\n",
        "        Conv2D(256, kernel_size=(5, 5), activation='relu', padding='same'),\n",
        "        BatchNormalization(),\n",
        "        MaxPooling2D(pool_size=(3, 3), strides=2),\n",
        "\n",
        "        Conv2D(384, kernel_size=(3, 3), activation='relu', padding='same'),\n",
        "        Conv2D(384, kernel_size=(3, 3), activation='relu', padding='same'),\n",
        "        Conv2D(256, kernel_size=(3, 3), activation='relu', padding='same'),\n",
        "        MaxPooling2D(pool_size=(3, 3), strides=2),\n",
        "\n",
        "        Flatten(),\n",
        "        Dense(4096, activation='relu'),\n",
        "        Dropout(0.5),\n",
        "        Dense(4096, activation='relu'),\n",
        "        Dropout(0.5),\n",
        "        Dense(1, activation='sigmoid')  # Use 'softmax' for multi-class classification\n",
        "    ])\n",
        "    return model\n",
        "\n",
        "# Instantiate the model\n",
        "model = build_alexnet((IMG_HEIGHT, IMG_WIDTH, 3))\n",
        "\n",
        "# Compile the model\n",
        "model.compile(optimizer='adam', loss='binary_crossentropy', metrics=['accuracy'])\n"
      ]
    },
    {
      "cell_type": "code",
      "execution_count": null,
      "metadata": {
        "colab": {
          "base_uri": "https://localhost:8080/"
        },
        "id": "gK5JhG4Rk7gN",
        "outputId": "cae8bed9-a22a-4240-d137-ce14b9e7b07a"
      },
      "outputs": [
        {
          "output_type": "stream",
          "name": "stdout",
          "text": [
            "Epoch 1/10\n"
          ]
        },
        {
          "output_type": "stream",
          "name": "stderr",
          "text": [
            "/usr/local/lib/python3.10/dist-packages/keras/src/trainers/data_adapters/py_dataset_adapter.py:122: UserWarning: Your `PyDataset` class should call `super().__init__(**kwargs)` in its constructor. `**kwargs` can include `workers`, `use_multiprocessing`, `max_queue_size`. Do not pass these arguments to `fit()`, as they will be ignored.\n",
            "  self._warn_if_super_not_called()\n"
          ]
        },
        {
          "output_type": "stream",
          "name": "stdout",
          "text": [
            "\u001b[1m5/5\u001b[0m \u001b[32m━━━━━━━━━━━━━━━━━━━━\u001b[0m\u001b[37m\u001b[0m \u001b[1m32s\u001b[0m 5s/step - accuracy: 0.5544 - loss: 27.8619 - val_accuracy: 0.6400 - val_loss: 0.6882\n",
            "Epoch 2/10\n",
            "\u001b[1m1/5\u001b[0m \u001b[32m━━━━\u001b[0m\u001b[37m━━━━━━━━━━━━━━━━\u001b[0m \u001b[1m26s\u001b[0m 7s/step - accuracy: 0.4375 - loss: 0.7126"
          ]
        },
        {
          "output_type": "stream",
          "name": "stderr",
          "text": [
            "/usr/lib/python3.10/contextlib.py:153: UserWarning: Your input ran out of data; interrupting training. Make sure that your dataset or generator can generate at least `steps_per_epoch * epochs` batches. You may need to use the `.repeat()` function when building your dataset.\n",
            "  self.gen.throw(typ, value, traceback)\n"
          ]
        },
        {
          "output_type": "stream",
          "name": "stdout",
          "text": [
            "\b\b\b\b\b\b\b\b\b\b\b\b\b\b\b\b\b\b\b\b\b\b\b\b\b\b\b\b\b\b\b\b\b\b\b\b\b\b\b\b\b\b\b\b\b\b\b\b\b\b\b\b\b\b\b\b\b\b\b\b\b\b\b\b\b\b\b\b\b\b\r\u001b[1m5/5\u001b[0m \u001b[32m━━━━━━━━━━━━━━━━━━━━\u001b[0m\u001b[37m\u001b[0m \u001b[1m8s\u001b[0m 257ms/step - accuracy: 0.4375 - loss: 0.7126 - val_accuracy: 0.2400 - val_loss: 0.6964\n",
            "Epoch 3/10\n",
            "\u001b[1m5/5\u001b[0m \u001b[32m━━━━━━━━━━━━━━━━━━━━\u001b[0m\u001b[37m\u001b[0m \u001b[1m29s\u001b[0m 6s/step - accuracy: 0.5972 - loss: 0.6754 - val_accuracy: 0.6400 - val_loss: 0.6877\n",
            "Epoch 4/10\n",
            "\u001b[1m5/5\u001b[0m \u001b[32m━━━━━━━━━━━━━━━━━━━━\u001b[0m\u001b[37m\u001b[0m \u001b[1m3s\u001b[0m 252ms/step - accuracy: 0.7500 - loss: 0.5144 - val_accuracy: 0.4000 - val_loss: 0.7041\n",
            "Epoch 5/10\n",
            "\u001b[1m5/5\u001b[0m \u001b[32m━━━━━━━━━━━━━━━━━━━━\u001b[0m\u001b[37m\u001b[0m \u001b[1m28s\u001b[0m 5s/step - accuracy: 0.7220 - loss: 0.7382 - val_accuracy: 0.3600 - val_loss: 0.8818\n",
            "Epoch 6/10\n",
            "\u001b[1m5/5\u001b[0m \u001b[32m━━━━━━━━━━━━━━━━━━━━\u001b[0m\u001b[37m\u001b[0m \u001b[1m7s\u001b[0m 421ms/step - accuracy: 0.6250 - loss: 0.9038 - val_accuracy: 0.3600 - val_loss: 0.8484\n",
            "Epoch 7/10\n",
            "\u001b[1m5/5\u001b[0m \u001b[32m━━━━━━━━━━━━━━━━━━━━\u001b[0m\u001b[37m\u001b[0m \u001b[1m36s\u001b[0m 7s/step - accuracy: 0.7043 - loss: 0.5864 - val_accuracy: 0.6000 - val_loss: 0.6830\n",
            "Epoch 8/10\n",
            "\u001b[1m5/5\u001b[0m \u001b[32m━━━━━━━━━━━━━━━━━━━━\u001b[0m\u001b[37m\u001b[0m \u001b[1m3s\u001b[0m 258ms/step - accuracy: 0.8333 - loss: 0.4280 - val_accuracy: 0.4400 - val_loss: 0.7227\n",
            "Epoch 9/10\n",
            "\u001b[1m5/5\u001b[0m \u001b[32m━━━━━━━━━━━━━━━━━━━━\u001b[0m\u001b[37m\u001b[0m \u001b[1m29s\u001b[0m 5s/step - accuracy: 0.7906 - loss: 0.4621 - val_accuracy: 0.3600 - val_loss: 0.7449\n",
            "Epoch 10/10\n",
            "\u001b[1m5/5\u001b[0m \u001b[32m━━━━━━━━━━━━━━━━━━━━\u001b[0m\u001b[37m\u001b[0m \u001b[1m7s\u001b[0m 303ms/step - accuracy: 0.7812 - loss: 0.4856 - val_accuracy: 0.3600 - val_loss: 0.7659\n"
          ]
        }
      ],
      "source": [
        "# Train the model\n",
        "EPOCHS = 10  # You can increase this based on your data\n",
        "history = model.fit(\n",
        "    train_generator,\n",
        "    validation_data=valid_generator,\n",
        "    epochs=EPOCHS,\n",
        "    steps_per_epoch=train_generator.samples // BATCH_SIZE,\n",
        "    validation_steps=valid_generator.samples // BATCH_SIZE\n",
        ")\n"
      ]
    },
    {
      "cell_type": "code",
      "execution_count": null,
      "metadata": {
        "colab": {
          "base_uri": "https://localhost:8080/",
          "height": 927
        },
        "id": "iggfl9dHk_4e",
        "outputId": "1586e0cb-8f2a-4c81-c116-3e89b2feeae6"
      },
      "outputs": [
        {
          "output_type": "display_data",
          "data": {
            "text/plain": [
              "<Figure size 640x480 with 1 Axes>"
            ],
            "image/png": "[encoded data removed]"
          },
          "metadata": {}
        },
        {
          "output_type": "display_data",
          "data": {
            "text/plain": [
              "<Figure size 640x480 with 1 Axes>"
            ],
            "image/png": "[encoded data removed]"
          },
          "metadata": {}
        }
      ],
      "source": [
        "import matplotlib.pyplot as plt\n",
        "\n",
        "# Plot training & validation accuracy values\n",
        "plt.plot(history.history['accuracy'])\n",
        "plt.plot(history.history['val_accuracy'])\n",
        "plt.title('Model Accuracy')\n",
        "plt.xlabel('Epoch')\n",
        "plt.ylabel('Accuracy')\n",
        "plt.legend(['Train', 'Valid'], loc='upper left')\n",
        "plt.show()\n",
        "\n",
        "# Plot training & validation loss values\n",
        "plt.plot(history.history['loss'])\n",
        "plt.plot(history.history['val_loss'])\n",
        "plt.title('Model Loss')\n",
        "plt.xlabel('Epoch')\n",
        "plt.ylabel('Loss')\n",
        "plt.legend(['Train', 'Valid'], loc='upper left')\n",
        "plt.show()\n"
      ]
    },
    {
      "cell_type": "code",
      "execution_count": null,
      "metadata": {
        "colab": {
          "base_uri": "https://localhost:8080/"
        },
        "id": "ffIjYdq-mOwe",
        "outputId": "a768019f-1d19-43ff-f0c4-e0c348530e03"
      },
      "outputs": [
        {
          "output_type": "stream",
          "name": "stderr",
          "text": [
            "WARNING:absl:You are saving your model as an HDF5 file via `model.save()` or `keras.saving.save_model(model)`. This file format is considered legacy. We recommend using instead the native Keras format, e.g. `model.save('my_model.keras')` or `keras.saving.save_model(model, 'my_model.keras')`. \n"
          ]
        },
        {
          "output_type": "stream",
          "name": "stdout",
          "text": [
            "Model saved successfully.\n"
          ]
        }
      ],
      "source": [
        "# Save the entire model (architecture, weights, optimizer state)\n",
        "model.save('malnutrition_alexnet_model.h5')  # Saving the model in .h5 format\n",
        "print(\"Model saved successfully.\")\n"
      ]
    },
    {
      "cell_type": "code",
      "source": [
        "from sklearn.metrics import confusion_matrix, ConfusionMatrixDisplay, precision_score, recall_score, f1_score, accuracy_score\n",
        "import matplotlib.pyplot as plt\n",
        "\n",
        "# Function to calculate and display metrics\n",
        "def evaluate_model(generator, model, dataset_name, batch_size):\n",
        "    # Generate Predictions\n",
        "    Y_pred = model.predict(generator, steps=generator.samples // batch_size + 1)\n",
        "    y_pred = (Y_pred > 0.5).astype(int).flatten()  # Binary classification\n",
        "    y_true = generator.classes\n",
        "\n",
        "    # Confusion Matrix\n",
        "    cm = confusion_matrix(y_true, y_pred)\n",
        "    tn, fp, fn, tp = cm.ravel()\n",
        "\n",
        "    # Metrics Calculation\n",
        "    accuracy = (tp + tn) / (tp + tn + fp + fn)\n",
        "    precision = tp / (tp + fp) if (tp + fp) > 0 else 0\n",
        "    recall = tp / (tp + fn) if (tp + fn) > 0 else 0\n",
        "    f1 = 2 * (precision * recall) / (precision + recall) if (precision + recall) > 0 else 0\n",
        "\n",
        "    # Print Metrics\n",
        "    print(f\"\\n{dataset_name} Set Metrics:\")\n",
        "    print(f\"Accuracy: {accuracy:.2f}\")\n",
        "    print(f\"Precision: {precision:.2f}\")\n",
        "    print(f\"Recall: {recall:.2f}\")\n",
        "    print(f\"F1 Score: {f1:.2f}\")\n",
        "    print(f\"Confusion Matrix:\")\n",
        "    print(cm)\n",
        "    print(f\"True Positive (TP): {tp}\")\n",
        "    print(f\"False Negative (FN): {fn}\")\n",
        "    print(f\"False Positive (FP): {fp}\")\n",
        "    print(f\"True Negative (TN): {tn}\")\n",
        "\n",
        "    # Display Confusion Matrix\n",
        "    disp = ConfusionMatrixDisplay(confusion_matrix=cm, display_labels=generator.class_indices.keys())\n",
        "    disp.plot(cmap=plt.cm.Blues)\n",
        "    plt.title(f'Confusion Matrix ({dataset_name} Set)')\n",
        "    plt.show()\n",
        "\n",
        "# Training Set Evaluation\n",
        "evaluate_model(train_generator, model, \"Training\", BATCH_SIZE)\n",
        "\n",
        "# Validation Set Evaluation\n",
        "evaluate_model(valid_generator, model, \"Validation\", BATCH_SIZE)\n"
      ],
      "metadata": {
        "colab": {
          "base_uri": "https://localhost:8080/",
          "height": 1000
        },
        "id": "HJPmj7FhLlBf",
        "outputId": "652b414c-4e7c-4a3a-e01f-92444e0a087a"
      },
      "execution_count": null,
      "outputs": [
        {
          "output_type": "stream",
          "name": "stdout",
          "text": [
            "\u001b[1m6/6\u001b[0m \u001b[32m━━━━━━━━━━━━━━━━━━━━\u001b[0m\u001b[37m\u001b[0m \u001b[1m9s\u001b[0m 1s/step\n",
            "\n",
            "Training Set Metrics:\n",
            "Accuracy: 0.51\n",
            "Precision: 0.51\n",
            "Recall: 0.99\n",
            "F1 Score: 0.67\n",
            "Confusion Matrix:\n",
            "[[ 2 83]\n",
            " [ 1 86]]\n",
            "True Positive (TP): 86\n",
            "False Negative (FN): 1\n",
            "False Positive (FP): 83\n",
            "True Negative (TN): 2\n"
          ]
        },
        {
          "output_type": "display_data",
          "data": {
            "text/plain": [
              "<Figure size 640x480 with 2 Axes>"
            ],
            "image/png": "[encoded data removed]"
          },
          "metadata": {}
        },
        {
          "output_type": "stream",
          "name": "stdout",
          "text": [
            "\u001b[1m1/1\u001b[0m \u001b[32m━━━━━━━━━━━━━━━━━━━━\u001b[0m\u001b[37m\u001b[0m \u001b[1m1s\u001b[0m 995ms/step\n",
            "\n",
            "Validation Set Metrics:\n",
            "Accuracy: 0.36\n",
            "Precision: 0.36\n",
            "Recall: 1.00\n",
            "F1 Score: 0.53\n",
            "Confusion Matrix:\n",
            "[[ 0 16]\n",
            " [ 0  9]]\n",
            "True Positive (TP): 9\n",
            "False Negative (FN): 0\n",
            "False Positive (FP): 16\n",
            "True Negative (TN): 0\n"
          ]
        },
        {
          "output_type": "display_data",
          "data": {
            "text/plain": [
              "<Figure size 640x480 with 2 Axes>"
            ],
            "image/png": "[encoded data removed]"
          },
          "metadata": {}
        }
      ]
    },
    {
      "cell_type": "code",
      "execution_count": null,
      "metadata": {
        "colab": {
          "base_uri": "https://localhost:8080/"
        },
        "id": "t5sbWr6GmV7p",
        "outputId": "f792d80c-9414-40b7-b8cb-a71e7c4e20d5"
      },
      "outputs": [
        {
          "output_type": "stream",
          "name": "stdout",
          "text": [
            "/content\n"
          ]
        }
      ],
      "source": [
        "import os\n",
        "print(os.getcwd())  # Prints the current working directory\n"
      ]
    },
    {
      "cell_type": "code",
      "source": [
        "from tensorflow.keras.models import load_model\n",
        "\n",
        "# Load the trained model\n",
        "model = load_model('malnutrition_alexnet_model.h5')\n"
      ],
      "metadata": {
        "colab": {
          "base_uri": "https://localhost:8080/"
        },
        "outputId": "5857ea63-f6f8-4bc5-9e80-5fab473a7600",
        "id": "SC-mUKRhShWu"
      },
      "execution_count": null,
      "outputs": [
        {
          "output_type": "stream",
          "name": "stderr",
          "text": [
            "WARNING:absl:Compiled the loaded model, but the compiled metrics have yet to be built. `model.compile_metrics` will be empty until you train or evaluate the model.\n"
          ]
        }
      ]
    },
    {
      "cell_type": "code",
      "source": [
        "import os\n",
        "from tensorflow.keras.preprocessing import image\n",
        "import numpy as np\n",
        "\n",
        "# Function to predict images in a directory\n",
        "def predict_images_in_directory(directory_path):\n",
        "    for subdir in os.listdir(directory_path):\n",
        "        subdir_path = os.path.join(directory_path, subdir)\n",
        "        if os.path.isdir(subdir_path):  # Check if it's a folder\n",
        "            for img_file in os.listdir(subdir_path):\n",
        "                img_path = os.path.join(subdir_path, img_file)\n",
        "                if img_path.lower().endswith(('.png', '.jpg', '.jpeg')):  # Check if it's an image file\n",
        "                    # Load and preprocess the image\n",
        "                    img = image.load_img(img_path, target_size=(227, 227))\n",
        "                    img_array = image.img_to_array(img)\n",
        "                    img_array = np.expand_dims(img_array, axis=0)\n",
        "                    img_array /= 255.0\n",
        "\n",
        "                    # Make the prediction\n",
        "                    prediction = model.predict(img_array)\n",
        "\n",
        "                    # Check prediction and print the result\n",
        "                    print(f\"Image: {img_file} - Prediction: {'Malnourished' if prediction >= 0.5 else 'Healthy'}\")\n",
        "\n",
        "# Predict on images in both the train and valid directories\n",
        "train_dir = '/content/path_to_train_data'  # Update with actual path to train data\n",
        "valid_dir = '/content/path_to_valid_data'  # Update with actual path to valid data\n",
        "\n",
        "print(\"Predicting on Train Data...\")\n",
        "predict_images_in_directory(train_dir)\n",
        "\n",
        "print(\"Predicting on Valid Data...\")\n",
        "predict_images_in_directory(valid_dir)\n"
      ],
      "metadata": {
        "colab": {
          "base_uri": "https://localhost:8080/"
        },
        "id": "7C6u11zVUjW-",
        "outputId": "10349c91-8e4b-4d6c-8ada-65f9f74919e4"
      },
      "execution_count": null,
      "outputs": [
        {
          "output_type": "stream",
          "name": "stdout",
          "text": [
            "Predicting on Train Data...\n",
            "\u001b[1m1/1\u001b[0m \u001b[32m━━━━━━━━━━━━━━━━━━━━\u001b[0m\u001b[37m\u001b[0m \u001b[1m0s\u001b[0m 199ms/step\n",
            "Image: Screenshot-2024-10-30-153405_png.rf.dbc4f014e6c9c2073d4ddd43c50de2ce.jpg - Prediction: Malnourished\n",
            "\u001b[1m1/1\u001b[0m \u001b[32m━━━━━━━━━━━━━━━━━━━━\u001b[0m\u001b[37m\u001b[0m \u001b[1m0s\u001b[0m 71ms/step\n",
            "Image: Screenshot-2024-10-30-153450_png.rf.7bcecf4adcafb28fcc1eb4a8c6cfb658.jpg - Prediction: Malnourished\n",
            "\u001b[1m1/1\u001b[0m \u001b[32m━━━━━━━━━━━━━━━━━━━━\u001b[0m\u001b[37m\u001b[0m \u001b[1m0s\u001b[0m 76ms/step\n",
            "Image: Screenshot-2024-11-04-132456_png.rf.2f2685ad5f4dc44378a751932811164f.jpg - Prediction: Malnourished\n",
            "\u001b[1m1/1\u001b[0m \u001b[32m━━━━━━━━━━━━━━━━━━━━\u001b[0m\u001b[37m\u001b[0m \u001b[1m0s\u001b[0m 78ms/step\n",
            "Image: Screenshot-2024-10-30-153844_png.rf.e55892d9e71f08582fa37a371c4f61ef.jpg - Prediction: Malnourished\n",
            "\u001b[1m1/1\u001b[0m \u001b[32m━━━━━━━━━━━━━━━━━━━━\u001b[0m\u001b[37m\u001b[0m \u001b[1m0s\u001b[0m 74ms/step\n",
            "Image: Screenshot-2024-11-04-154551_png.rf.953675725d642e4cf7fb4e30028ccf86.jpg - Prediction: Malnourished\n",
            "\u001b[1m1/1\u001b[0m \u001b[32m━━━━━━━━━━━━━━━━━━━━\u001b[0m\u001b[37m\u001b[0m \u001b[1m0s\u001b[0m 76ms/step\n",
            "Image: Screenshot-2024-10-30-153450_png.rf.0030d32e62c717389884c1c04faab793.jpg - Prediction: Malnourished\n",
            "\u001b[1m1/1\u001b[0m \u001b[32m━━━━━━━━━━━━━━━━━━━━\u001b[0m\u001b[37m\u001b[0m \u001b[1m0s\u001b[0m 94ms/step\n",
            "Image: Screenshot-2024-11-04-151345_png.rf.9f16faf7295dc86a541138d4b1eb5901.jpg - Prediction: Malnourished\n",
            "\u001b[1m1/1\u001b[0m \u001b[32m━━━━━━━━━━━━━━━━━━━━\u001b[0m\u001b[37m\u001b[0m \u001b[1m0s\u001b[0m 77ms/step\n",
            "Image: Screenshot-2024-10-30-153535_png.rf.adf342813ca2faa3f6254ed82c3e8d31.jpg - Prediction: Malnourished\n",
            "\u001b[1m1/1\u001b[0m \u001b[32m━━━━━━━━━━━━━━━━━━━━\u001b[0m\u001b[37m\u001b[0m \u001b[1m0s\u001b[0m 76ms/step\n",
            "Image: Screenshot-2024-11-04-154214_png.rf.b9e39a7a29b539df263a39574164ba33.jpg - Prediction: Malnourished\n",
            "\u001b[1m1/1\u001b[0m \u001b[32m━━━━━━━━━━━━━━━━━━━━\u001b[0m\u001b[37m\u001b[0m \u001b[1m0s\u001b[0m 74ms/step\n",
            "Image: Screenshot-2024-11-04-132612_png.rf.960c7b94df219725cd76afa563d1037d.jpg - Prediction: Malnourished\n",
            "\u001b[1m1/1\u001b[0m \u001b[32m━━━━━━━━━━━━━━━━━━━━\u001b[0m\u001b[37m\u001b[0m \u001b[1m0s\u001b[0m 78ms/step\n",
            "Image: Screenshot-2024-10-30-153844_png.rf.b3d55d6854a04eac0743b976de0ddfc6.jpg - Prediction: Malnourished\n",
            "\u001b[1m1/1\u001b[0m \u001b[32m━━━━━━━━━━━━━━━━━━━━\u001b[0m\u001b[37m\u001b[0m \u001b[1m0s\u001b[0m 84ms/step\n",
            "Image: Screenshot-2024-11-04-151615_png.rf.c88047ee7d24f5113257d89fd3ea0be4.jpg - Prediction: Malnourished\n",
            "\u001b[1m1/1\u001b[0m \u001b[32m━━━━━━━━━━━━━━━━━━━━\u001b[0m\u001b[37m\u001b[0m \u001b[1m0s\u001b[0m 75ms/step\n",
            "Image: Screenshot-2024-11-04-153033_png.rf.66224576c6f7389c2a2087d1b12b46fb.jpg - Prediction: Malnourished\n",
            "\u001b[1m1/1\u001b[0m \u001b[32m━━━━━━━━━━━━━━━━━━━━\u001b[0m\u001b[37m\u001b[0m \u001b[1m0s\u001b[0m 102ms/step\n",
            "Image: Screenshot-2024-11-04-153115_png.rf.f8222eb2e24e1e6670cbd7cd1ad7d373.jpg - Prediction: Malnourished\n",
            "\u001b[1m1/1\u001b[0m \u001b[32m━━━━━━━━━━━━━━━━━━━━\u001b[0m\u001b[37m\u001b[0m \u001b[1m0s\u001b[0m 76ms/step\n",
            "Image: Screenshot-2024-10-30-153806_png.rf.ee2b712b36d1f01df5c9e8f0bb5ed238.jpg - Prediction: Malnourished\n",
            "\u001b[1m1/1\u001b[0m \u001b[32m━━━━━━━━━━━━━━━━━━━━\u001b[0m\u001b[37m\u001b[0m \u001b[1m0s\u001b[0m 74ms/step\n",
            "Image: Screenshot-2024-11-04-151916_png.rf.e79851daebc4de52ddc0f6bb20fb444c.jpg - Prediction: Malnourished\n",
            "\u001b[1m1/1\u001b[0m \u001b[32m━━━━━━━━━━━━━━━━━━━━\u001b[0m\u001b[37m\u001b[0m \u001b[1m0s\u001b[0m 84ms/step\n",
            "Image: Screenshot-2024-11-04-143709_png.rf.ac34d912b6edf51383e3031f294cfaa7.jpg - Prediction: Malnourished\n",
            "\u001b[1m1/1\u001b[0m \u001b[32m━━━━━━━━━━━━━━━━━━━━\u001b[0m\u001b[37m\u001b[0m \u001b[1m0s\u001b[0m 72ms/step\n",
            "Image: Screenshot-2024-11-04-152852_png.rf.396d6d6f6c5f4b34eebdbaac1d16e7ea.jpg - Prediction: Malnourished\n",
            "\u001b[1m1/1\u001b[0m \u001b[32m━━━━━━━━━━━━━━━━━━━━\u001b[0m\u001b[37m\u001b[0m \u001b[1m0s\u001b[0m 79ms/step\n",
            "Image: Screenshot-2024-11-04-143709_png.rf.8bb7afb41493d4399a39f1d6f5576361.jpg - Prediction: Malnourished\n",
            "\u001b[1m1/1\u001b[0m \u001b[32m━━━━━━━━━━━━━━━━━━━━\u001b[0m\u001b[37m\u001b[0m \u001b[1m0s\u001b[0m 78ms/step\n",
            "Image: Screenshot-2024-10-30-153222_png.rf.28799452e255a624d16d2ed8d0dfcfdf.jpg - Prediction: Malnourished\n",
            "\u001b[1m1/1\u001b[0m \u001b[32m━━━━━━━━━━━━━━━━━━━━\u001b[0m\u001b[37m\u001b[0m \u001b[1m0s\u001b[0m 117ms/step\n",
            "Image: Screenshot-2024-11-04-153311_png.rf.41ccc5a281cd98705a262ea5523ecc82.jpg - Prediction: Malnourished\n",
            "\u001b[1m1/1\u001b[0m \u001b[32m━━━━━━━━━━━━━━━━━━━━\u001b[0m\u001b[37m\u001b[0m \u001b[1m0s\u001b[0m 80ms/step\n",
            "Image: Screenshot-2024-11-04-150706_png.rf.13c9be96279205e1427af9cd66317f8e.jpg - Prediction: Malnourished\n",
            "\u001b[1m1/1\u001b[0m \u001b[32m━━━━━━━━━━━━━━━━━━━━\u001b[0m\u001b[37m\u001b[0m \u001b[1m0s\u001b[0m 72ms/step\n",
            "Image: Screenshot-2024-11-04-153311_png.rf.b9793e5cd83a0b15c18c9dd5e01b4044.jpg - Prediction: Malnourished\n",
            "\u001b[1m1/1\u001b[0m \u001b[32m━━━━━━━━━━━━━━━━━━━━\u001b[0m\u001b[37m\u001b[0m \u001b[1m0s\u001b[0m 75ms/step\n",
            "Image: Screenshot-2024-10-30-153722_png.rf.0f3e2e4e16763369a96a90418ebe4a65.jpg - Prediction: Malnourished\n",
            "\u001b[1m1/1\u001b[0m \u001b[32m━━━━━━━━━━━━━━━━━━━━\u001b[0m\u001b[37m\u001b[0m \u001b[1m0s\u001b[0m 76ms/step\n",
            "Image: Screenshot-2024-11-04-153225_png.rf.a5dc54717774bd54dfb0e448a020d04a.jpg - Prediction: Malnourished\n",
            "\u001b[1m1/1\u001b[0m \u001b[32m━━━━━━━━━━━━━━━━━━━━\u001b[0m\u001b[37m\u001b[0m \u001b[1m0s\u001b[0m 87ms/step\n",
            "Image: Screenshot-2024-11-04-153033_png.rf.5a7ad9d71b293be2493ba85da3ea4c0d.jpg - Prediction: Malnourished\n",
            "\u001b[1m1/1\u001b[0m \u001b[32m━━━━━━━━━━━━━━━━━━━━\u001b[0m\u001b[37m\u001b[0m \u001b[1m0s\u001b[0m 73ms/step\n",
            "Image: Screenshot-2024-11-04-152714_png.rf.434757d7772805a665ec65764d339bc5.jpg - Prediction: Malnourished\n",
            "\u001b[1m1/1\u001b[0m \u001b[32m━━━━━━━━━━━━━━━━━━━━\u001b[0m\u001b[37m\u001b[0m \u001b[1m0s\u001b[0m 114ms/step\n",
            "Image: Screenshot-2024-10-30-153405_png.rf.72c5edb8c60c41905dfbf2747bec2747.jpg - Prediction: Malnourished\n",
            "\u001b[1m1/1\u001b[0m \u001b[32m━━━━━━━━━━━━━━━━━━━━\u001b[0m\u001b[37m\u001b[0m \u001b[1m0s\u001b[0m 78ms/step\n",
            "Image: Screenshot-2024-11-04-153033_png.rf.891559e4a78aa310e051c1b245161c93.jpg - Prediction: Malnourished\n",
            "\u001b[1m1/1\u001b[0m \u001b[32m━━━━━━━━━━━━━━━━━━━━\u001b[0m\u001b[37m\u001b[0m \u001b[1m0s\u001b[0m 78ms/step\n",
            "Image: Screenshot-2024-10-30-153535_png.rf.b32610d9582652373b73fed19813b910.jpg - Prediction: Malnourished\n",
            "\u001b[1m1/1\u001b[0m \u001b[32m━━━━━━━━━━━━━━━━━━━━\u001b[0m\u001b[37m\u001b[0m \u001b[1m0s\u001b[0m 72ms/step\n",
            "Image: Screenshot-2024-10-30-153036_png.rf.4e9819eea47e3e6e0b1535484f983a4b.jpg - Prediction: Malnourished\n",
            "\u001b[1m1/1\u001b[0m \u001b[32m━━━━━━━━━━━━━━━━━━━━\u001b[0m\u001b[37m\u001b[0m \u001b[1m0s\u001b[0m 75ms/step\n",
            "Image: Screenshot-2024-11-04-154457_png.rf.01eedee5d60620842feed1120f7aab6a.jpg - Prediction: Malnourished\n",
            "\u001b[1m1/1\u001b[0m \u001b[32m━━━━━━━━━━━━━━━━━━━━\u001b[0m\u001b[37m\u001b[0m \u001b[1m0s\u001b[0m 80ms/step\n",
            "Image: Screenshot-2024-11-04-151916_png.rf.42eb49a8de166601c9d87975c44be73d.jpg - Prediction: Malnourished\n",
            "\u001b[1m1/1\u001b[0m \u001b[32m━━━━━━━━━━━━━━━━━━━━\u001b[0m\u001b[37m\u001b[0m \u001b[1m0s\u001b[0m 80ms/step\n",
            "Image: Screenshot-2024-11-04-151801_png.rf.5afd931a7b147118f47ebb98389aa7b0.jpg - Prediction: Malnourished\n",
            "\u001b[1m1/1\u001b[0m \u001b[32m━━━━━━━━━━━━━━━━━━━━\u001b[0m\u001b[37m\u001b[0m \u001b[1m0s\u001b[0m 98ms/step\n",
            "Image: Screenshot-2024-11-04-143709_png.rf.0b6e4903770e92bce5de6f767c335bf3.jpg - Prediction: Malnourished\n",
            "\u001b[1m1/1\u001b[0m \u001b[32m━━━━━━━━━━━━━━━━━━━━\u001b[0m\u001b[37m\u001b[0m \u001b[1m0s\u001b[0m 76ms/step\n",
            "Image: Screenshot-2024-10-30-153844_png.rf.9d59aa2022392efcab52744bb499ebf7.jpg - Prediction: Malnourished\n",
            "\u001b[1m1/1\u001b[0m \u001b[32m━━━━━━━━━━━━━━━━━━━━\u001b[0m\u001b[37m\u001b[0m \u001b[1m0s\u001b[0m 74ms/step\n",
            "Image: Screenshot-2024-11-04-151345_png.rf.f7c8764537bec0e48a91f184762bade4.jpg - Prediction: Malnourished\n",
            "\u001b[1m1/1\u001b[0m \u001b[32m━━━━━━━━━━━━━━━━━━━━\u001b[0m\u001b[37m\u001b[0m \u001b[1m0s\u001b[0m 79ms/step\n",
            "Image: Screenshot-2024-11-04-152714_png.rf.a4f62b1abda3b5904c79f2896dc48d3d.jpg - Prediction: Malnourished\n",
            "\u001b[1m1/1\u001b[0m \u001b[32m━━━━━━━━━━━━━━━━━━━━\u001b[0m\u001b[37m\u001b[0m \u001b[1m0s\u001b[0m 76ms/step\n",
            "Image: Screenshot-2024-11-04-152003_png.rf.9984012f4f48b05716fe2836dce68415.jpg - Prediction: Malnourished\n",
            "\u001b[1m1/1\u001b[0m \u001b[32m━━━━━━━━━━━━━━━━━━━━\u001b[0m\u001b[37m\u001b[0m \u001b[1m0s\u001b[0m 83ms/step\n",
            "Image: Screenshot-2024-11-04-153225_png.rf.aad90ff7e59644e81a079f27f7fa8852.jpg - Prediction: Malnourished\n",
            "\u001b[1m1/1\u001b[0m \u001b[32m━━━━━━━━━━━━━━━━━━━━\u001b[0m\u001b[37m\u001b[0m \u001b[1m0s\u001b[0m 75ms/step\n",
            "Image: Screenshot-2024-11-04-154457_png.rf.aff07eaf3f010d93ed38797bb00c12e0.jpg - Prediction: Malnourished\n",
            "\u001b[1m1/1\u001b[0m \u001b[32m━━━━━━━━━━━━━━━━━━━━\u001b[0m\u001b[37m\u001b[0m \u001b[1m0s\u001b[0m 104ms/step\n",
            "Image: Screenshot-2024-11-04-151452_png.rf.a238e91417332cb0871157f8ef1a4732.jpg - Prediction: Malnourished\n",
            "\u001b[1m1/1\u001b[0m \u001b[32m━━━━━━━━━━━━━━━━━━━━\u001b[0m\u001b[37m\u001b[0m \u001b[1m0s\u001b[0m 79ms/step\n",
            "Image: Screenshot-2024-11-04-143513_png.rf.d41a06bfffe1f5558496aa4aa8b6a653.jpg - Prediction: Malnourished\n",
            "\u001b[1m1/1\u001b[0m \u001b[32m━━━━━━━━━━━━━━━━━━━━\u001b[0m\u001b[37m\u001b[0m \u001b[1m0s\u001b[0m 75ms/step\n",
            "Image: Screenshot-2024-10-30-153222_png.rf.1420d9ecb78256853f3f28e7dd56908b.jpg - Prediction: Malnourished\n",
            "\u001b[1m1/1\u001b[0m \u001b[32m━━━━━━━━━━━━━━━━━━━━\u001b[0m\u001b[37m\u001b[0m \u001b[1m0s\u001b[0m 76ms/step\n",
            "Image: Screenshot-2024-11-04-154551_png.rf.111081295b1125d82036d47a89bce3fe.jpg - Prediction: Malnourished\n",
            "\u001b[1m1/1\u001b[0m \u001b[32m━━━━━━━━━━━━━━━━━━━━\u001b[0m\u001b[37m\u001b[0m \u001b[1m0s\u001b[0m 78ms/step\n",
            "Image: Screenshot-2024-10-30-153806_png.rf.3af586272e7167a84abef2beb3019e94.jpg - Prediction: Malnourished\n",
            "\u001b[1m1/1\u001b[0m \u001b[32m━━━━━━━━━━━━━━━━━━━━\u001b[0m\u001b[37m\u001b[0m \u001b[1m0s\u001b[0m 75ms/step\n",
            "Image: Screenshot-2024-11-04-152852_png.rf.2a6fada84ada5c3cc1aa213e2c0c61cf.jpg - Prediction: Malnourished\n",
            "\u001b[1m1/1\u001b[0m \u001b[32m━━━━━━━━━━━━━━━━━━━━\u001b[0m\u001b[37m\u001b[0m \u001b[1m0s\u001b[0m 76ms/step\n",
            "Image: Screenshot-2024-11-04-153115_png.rf.620dc7b224f103921952effd4a602995.jpg - Prediction: Malnourished\n",
            "\u001b[1m1/1\u001b[0m \u001b[32m━━━━━━━━━━━━━━━━━━━━\u001b[0m\u001b[37m\u001b[0m \u001b[1m0s\u001b[0m 91ms/step\n",
            "Image: Screenshot-2024-10-30-153405_png.rf.0f94f7e23939ca30de59a727e5f3cb7f.jpg - Prediction: Malnourished\n",
            "\u001b[1m1/1\u001b[0m \u001b[32m━━━━━━━━━━━━━━━━━━━━\u001b[0m\u001b[37m\u001b[0m \u001b[1m0s\u001b[0m 132ms/step\n",
            "Image: Screenshot-2024-11-04-153311_png.rf.b42e0deb8d231d757995b9a4e322a884.jpg - Prediction: Malnourished\n",
            "\u001b[1m1/1\u001b[0m \u001b[32m━━━━━━━━━━━━━━━━━━━━\u001b[0m\u001b[37m\u001b[0m \u001b[1m0s\u001b[0m 118ms/step\n",
            "Image: Screenshot-2024-11-04-150706_png.rf.59ce53c09cd5fa34391de1943499b3d5.jpg - Prediction: Malnourished\n",
            "\u001b[1m1/1\u001b[0m \u001b[32m━━━━━━━━━━━━━━━━━━━━\u001b[0m\u001b[37m\u001b[0m \u001b[1m0s\u001b[0m 118ms/step\n",
            "Image: Screenshot-2024-10-30-153535_png.rf.b472bfb0283b5f2e89c5d35409c5dc19.jpg - Prediction: Malnourished\n",
            "\u001b[1m1/1\u001b[0m \u001b[32m━━━━━━━━━━━━━━━━━━━━\u001b[0m\u001b[37m\u001b[0m \u001b[1m0s\u001b[0m 157ms/step\n",
            "Image: Screenshot-2024-11-04-132456_png.rf.8c8b898ba886de9e84afba58291a952a.jpg - Prediction: Malnourished\n",
            "\u001b[1m1/1\u001b[0m \u001b[32m━━━━━━━━━━━━━━━━━━━━\u001b[0m\u001b[37m\u001b[0m \u001b[1m0s\u001b[0m 263ms/step\n",
            "Image: Screenshot-2024-10-30-153450_png.rf.88d9c670306a066814310552059fffe4.jpg - Prediction: Malnourished\n",
            "\u001b[1m1/1\u001b[0m \u001b[32m━━━━━━━━━━━━━━━━━━━━\u001b[0m\u001b[37m\u001b[0m \u001b[1m0s\u001b[0m 119ms/step\n",
            "Image: Screenshot-2024-11-04-154457_png.rf.4cd0aa8a1b5eca52a52e7e7cf8bae0a9.jpg - Prediction: Malnourished\n",
            "\u001b[1m1/1\u001b[0m \u001b[32m━━━━━━━━━━━━━━━━━━━━\u001b[0m\u001b[37m\u001b[0m \u001b[1m0s\u001b[0m 115ms/step\n",
            "Image: Screenshot-2024-10-30-153722_png.rf.b212710ae7aae2f0f9632be762a5a0b4.jpg - Prediction: Malnourished\n",
            "\u001b[1m1/1\u001b[0m \u001b[32m━━━━━━━━━━━━━━━━━━━━\u001b[0m\u001b[37m\u001b[0m \u001b[1m0s\u001b[0m 142ms/step\n",
            "Image: Screenshot-2024-11-04-151916_png.rf.e3371cc9ae76feff99c0680f421fa81a.jpg - Prediction: Malnourished\n",
            "\u001b[1m1/1\u001b[0m \u001b[32m━━━━━━━━━━━━━━━━━━━━\u001b[0m\u001b[37m\u001b[0m \u001b[1m0s\u001b[0m 112ms/step\n",
            "Image: Screenshot-2024-11-04-154551_png.rf.db569028498a6d50a11b69c5cb904c0d.jpg - Prediction: Malnourished\n",
            "\u001b[1m1/1\u001b[0m \u001b[32m━━━━━━━━━━━━━━━━━━━━\u001b[0m\u001b[37m\u001b[0m \u001b[1m0s\u001b[0m 121ms/step\n",
            "Image: Screenshot-2024-10-30-154033_png.rf.09b88c70af0d07efb5d82e4dfb24931e.jpg - Prediction: Malnourished\n",
            "\u001b[1m1/1\u001b[0m \u001b[32m━━━━━━━━━━━━━━━━━━━━\u001b[0m\u001b[37m\u001b[0m \u001b[1m0s\u001b[0m 120ms/step\n",
            "Image: Screenshot-2024-10-30-153036_png.rf.3959869e4be4bc25732a5024abe398a1.jpg - Prediction: Malnourished\n",
            "\u001b[1m1/1\u001b[0m \u001b[32m━━━━━━━━━━━━━━━━━━━━\u001b[0m\u001b[37m\u001b[0m \u001b[1m0s\u001b[0m 121ms/step\n",
            "Image: Screenshot-2024-11-04-132612_png.rf.10af6a18dff31c1d81c51ce53128f97d.jpg - Prediction: Malnourished\n",
            "\u001b[1m1/1\u001b[0m \u001b[32m━━━━━━━━━━━━━━━━━━━━\u001b[0m\u001b[37m\u001b[0m \u001b[1m0s\u001b[0m 117ms/step\n",
            "Image: Screenshot-2024-11-04-151615_png.rf.a2f51f970ab7e859d5172ccf5b9fb409.jpg - Prediction: Malnourished\n",
            "\u001b[1m1/1\u001b[0m \u001b[32m━━━━━━━━━━━━━━━━━━━━\u001b[0m\u001b[37m\u001b[0m \u001b[1m0s\u001b[0m 126ms/step\n",
            "Image: Screenshot-2024-11-04-132456_png.rf.d5554dfb0caa0664b601dd1c749834f6.jpg - Prediction: Malnourished\n",
            "\u001b[1m1/1\u001b[0m \u001b[32m━━━━━━━━━━━━━━━━━━━━\u001b[0m\u001b[37m\u001b[0m \u001b[1m0s\u001b[0m 123ms/step\n",
            "Image: Screenshot-2024-11-04-151615_png.rf.d2d8f124b0296b3c61517045061c904a.jpg - Prediction: Malnourished\n",
            "\u001b[1m1/1\u001b[0m \u001b[32m━━━━━━━━━━━━━━━━━━━━\u001b[0m\u001b[37m\u001b[0m \u001b[1m0s\u001b[0m 123ms/step\n",
            "Image: Screenshot-2024-11-04-132612_png.rf.8e7e72d05d1114a784a230e3d43b0a4c.jpg - Prediction: Malnourished\n",
            "\u001b[1m1/1\u001b[0m \u001b[32m━━━━━━━━━━━━━━━━━━━━\u001b[0m\u001b[37m\u001b[0m \u001b[1m0s\u001b[0m 131ms/step\n",
            "Image: Screenshot-2024-10-30-153722_png.rf.4dbda4abb9a04d69d8891ef949d76bba.jpg - Prediction: Malnourished\n",
            "\u001b[1m1/1\u001b[0m \u001b[32m━━━━━━━━━━━━━━━━━━━━\u001b[0m\u001b[37m\u001b[0m \u001b[1m0s\u001b[0m 119ms/step\n",
            "Image: Screenshot-2024-11-04-152714_png.rf.cae54f7910abc0e15f828b8e10bddbee.jpg - Prediction: Malnourished\n",
            "\u001b[1m1/1\u001b[0m \u001b[32m━━━━━━━━━━━━━━━━━━━━\u001b[0m\u001b[37m\u001b[0m \u001b[1m0s\u001b[0m 112ms/step\n",
            "Image: Screenshot-2024-10-30-153036_png.rf.7d1fec24ad42822868dd89263a69ec8e.jpg - Prediction: Malnourished\n",
            "\u001b[1m1/1\u001b[0m \u001b[32m━━━━━━━━━━━━━━━━━━━━\u001b[0m\u001b[37m\u001b[0m \u001b[1m0s\u001b[0m 82ms/step\n",
            "Image: Screenshot-2024-11-04-152852_png.rf.09ef8f3d94be141e9b54331019c0580d.jpg - Prediction: Malnourished\n",
            "\u001b[1m1/1\u001b[0m \u001b[32m━━━━━━━━━━━━━━━━━━━━\u001b[0m\u001b[37m\u001b[0m \u001b[1m0s\u001b[0m 76ms/step\n",
            "Image: Screenshot-2024-11-04-152003_png.rf.4afde1c7e4207b397fa0875bf298c586.jpg - Prediction: Malnourished\n",
            "\u001b[1m1/1\u001b[0m \u001b[32m━━━━━━━━━━━━━━━━━━━━\u001b[0m\u001b[37m\u001b[0m \u001b[1m0s\u001b[0m 76ms/step\n",
            "Image: Screenshot-2024-11-04-153717_png.rf.c7f6ceb6c3ccf6d1c1256b24f19639ee.jpg - Prediction: Malnourished\n",
            "\u001b[1m1/1\u001b[0m \u001b[32m━━━━━━━━━━━━━━━━━━━━\u001b[0m\u001b[37m\u001b[0m \u001b[1m0s\u001b[0m 105ms/step\n",
            "Image: Screenshot-2024-11-04-154214_png.rf.4d3e865874101629dfd22b7df9f1a2f6.jpg - Prediction: Malnourished\n",
            "\u001b[1m1/1\u001b[0m \u001b[32m━━━━━━━━━━━━━━━━━━━━\u001b[0m\u001b[37m\u001b[0m \u001b[1m0s\u001b[0m 75ms/step\n",
            "Image: Screenshot-2024-11-04-153717_png.rf.a0c284c8b8ad3df4406db1ff35103c92.jpg - Prediction: Malnourished\n",
            "\u001b[1m1/1\u001b[0m \u001b[32m━━━━━━━━━━━━━━━━━━━━\u001b[0m\u001b[37m\u001b[0m \u001b[1m0s\u001b[0m 75ms/step\n",
            "Image: Screenshot-2024-10-30-154033_png.rf.1025073474ed3e08d5830be6f9df7508.jpg - Prediction: Malnourished\n",
            "\u001b[1m1/1\u001b[0m \u001b[32m━━━━━━━━━━━━━━━━━━━━\u001b[0m\u001b[37m\u001b[0m \u001b[1m0s\u001b[0m 96ms/step\n",
            "Image: Screenshot-2024-11-04-150706_png.rf.8b423001b697e8fc27b628bff1ced5b1.jpg - Prediction: Malnourished\n",
            "\u001b[1m1/1\u001b[0m \u001b[32m━━━━━━━━━━━━━━━━━━━━\u001b[0m\u001b[37m\u001b[0m \u001b[1m0s\u001b[0m 72ms/step\n",
            "Image: Screenshot-2024-11-04-154214_png.rf.fb6bc88ed0abd7a67973df4a75f324d2.jpg - Prediction: Malnourished\n",
            "\u001b[1m1/1\u001b[0m \u001b[32m━━━━━━━━━━━━━━━━━━━━\u001b[0m\u001b[37m\u001b[0m \u001b[1m0s\u001b[0m 81ms/step\n",
            "Image: Screenshot-2024-10-30-153806_png.rf.6ce3f25d22d728a3cacfda95c625afc9.jpg - Prediction: Malnourished\n",
            "\u001b[1m1/1\u001b[0m \u001b[32m━━━━━━━━━━━━━━━━━━━━\u001b[0m\u001b[37m\u001b[0m \u001b[1m0s\u001b[0m 73ms/step\n",
            "Image: Screenshot-2024-10-30-154033_png.rf.04403f170990e038c515550f3786ac23.jpg - Prediction: Malnourished\n",
            "\u001b[1m1/1\u001b[0m \u001b[32m━━━━━━━━━━━━━━━━━━━━\u001b[0m\u001b[37m\u001b[0m \u001b[1m0s\u001b[0m 92ms/step\n",
            "Image: Screenshot-2024-11-04-151801_png.rf.f704d43eebeedb66fa41e778c7db251f.jpg - Prediction: Malnourished\n",
            "\u001b[1m1/1\u001b[0m \u001b[32m━━━━━━━━━━━━━━━━━━━━\u001b[0m\u001b[37m\u001b[0m \u001b[1m0s\u001b[0m 78ms/step\n",
            "Image: Screenshot-2024-11-04-153717_png.rf.c440fb76cf33ec681436d70c6f283eca.jpg - Prediction: Malnourished\n",
            "\u001b[1m1/1\u001b[0m \u001b[32m━━━━━━━━━━━━━━━━━━━━\u001b[0m\u001b[37m\u001b[0m \u001b[1m0s\u001b[0m 76ms/step\n",
            "Image: Screenshot-2024-11-04-143513_png.rf.8b1afc71d1108348b0d12e4b5e1f55ae.jpg - Prediction: Malnourished\n",
            "\u001b[1m1/1\u001b[0m \u001b[32m━━━━━━━━━━━━━━━━━━━━\u001b[0m\u001b[37m\u001b[0m \u001b[1m0s\u001b[0m 88ms/step\n",
            "Image: Screenshot-2024-10-30-153222_png.rf.84caae6acef59f16892bdd158678d833.jpg - Prediction: Malnourished\n",
            "\u001b[1m1/1\u001b[0m \u001b[32m━━━━━━━━━━━━━━━━━━━━\u001b[0m\u001b[37m\u001b[0m \u001b[1m0s\u001b[0m 83ms/step\n",
            "Image: Screenshot-2024-11-04-151345_png.rf.6ce0735a379764d7ca7a0035b328cb39.jpg - Prediction: Malnourished\n",
            "\u001b[1m1/1\u001b[0m \u001b[32m━━━━━━━━━━━━━━━━━━━━\u001b[0m\u001b[37m\u001b[0m \u001b[1m0s\u001b[0m 77ms/step\n",
            "Image: Screenshot-2024-11-04-152003_png.rf.fcdecd6be9501e61c8e1a71000730b2f.jpg - Prediction: Malnourished\n",
            "\u001b[1m1/1\u001b[0m \u001b[32m━━━━━━━━━━━━━━━━━━━━\u001b[0m\u001b[37m\u001b[0m \u001b[1m0s\u001b[0m 75ms/step\n",
            "Image: Screenshot-2024-11-04-153115_png.rf.17479a74668e2c1722b98e5125ae84a5.jpg - Prediction: Malnourished\n",
            "\u001b[1m1/1\u001b[0m \u001b[32m━━━━━━━━━━━━━━━━━━━━\u001b[0m\u001b[37m\u001b[0m \u001b[1m0s\u001b[0m 99ms/step\n",
            "Image: Screenshot-2024-10-30-155242_png.rf.374e33cbfac654d02b8cad37151e92f9.jpg - Prediction: Malnourished\n",
            "\u001b[1m1/1\u001b[0m \u001b[32m━━━━━━━━━━━━━━━━━━━━\u001b[0m\u001b[37m\u001b[0m \u001b[1m0s\u001b[0m 74ms/step\n",
            "Image: Screenshot-2024-11-04-153451_png.rf.b1b8e14ac0df3f85b56727c60630fcc7.jpg - Prediction: Malnourished\n",
            "\u001b[1m1/1\u001b[0m \u001b[32m━━━━━━━━━━━━━━━━━━━━\u001b[0m\u001b[37m\u001b[0m \u001b[1m0s\u001b[0m 76ms/step\n",
            "Image: Screenshot-2024-11-04-154343_png.rf.92fc24b98280136305ca049f45a93249.jpg - Prediction: Malnourished\n",
            "\u001b[1m1/1\u001b[0m \u001b[32m━━━━━━━━━━━━━━━━━━━━\u001b[0m\u001b[37m\u001b[0m \u001b[1m0s\u001b[0m 88ms/step\n",
            "Image: Screenshot-2024-10-30-155330_png.rf.02c42337bea150a106adce66f315097d.jpg - Prediction: Malnourished\n",
            "\u001b[1m1/1\u001b[0m \u001b[32m━━━━━━━━━━━━━━━━━━━━\u001b[0m\u001b[37m\u001b[0m \u001b[1m0s\u001b[0m 73ms/step\n",
            "Image: Screenshot-2024-11-04-154006_png.rf.e6647ed0aee497cf399cbcb0ffc96620.jpg - Prediction: Malnourished\n",
            "\u001b[1m1/1\u001b[0m \u001b[32m━━━━━━━━━━━━━━━━━━━━\u001b[0m\u001b[37m\u001b[0m \u001b[1m0s\u001b[0m 77ms/step\n",
            "Image: Screenshot-2024-11-04-155030_png.rf.d119fd869ae76ee01ed21114fcf393cd.jpg - Prediction: Malnourished\n",
            "\u001b[1m1/1\u001b[0m \u001b[32m━━━━━━━━━━━━━━━━━━━━\u001b[0m\u001b[37m\u001b[0m \u001b[1m0s\u001b[0m 77ms/step\n",
            "Image: Screenshot-2024-11-04-155103_png.rf.eea455b2ba9ed6f7987747c706696e9a.jpg - Prediction: Malnourished\n",
            "\u001b[1m1/1\u001b[0m \u001b[32m━━━━━━━━━━━━━━━━━━━━\u001b[0m\u001b[37m\u001b[0m \u001b[1m0s\u001b[0m 98ms/step\n",
            "Image: Screenshot-2024-11-04-154343_png.rf.b84fcfd22c1a4f9dd6c2daa9b50880ed.jpg - Prediction: Malnourished\n",
            "\u001b[1m1/1\u001b[0m \u001b[32m━━━━━━━━━━━━━━━━━━━━\u001b[0m\u001b[37m\u001b[0m \u001b[1m0s\u001b[0m 78ms/step\n",
            "Image: Screenshot-2024-11-04-154241_png.rf.d6a9c763678cca999e9418fd514d56d8.jpg - Prediction: Malnourished\n",
            "\u001b[1m1/1\u001b[0m \u001b[32m━━━━━━━━━━━━━━━━━━━━\u001b[0m\u001b[37m\u001b[0m \u001b[1m0s\u001b[0m 73ms/step\n",
            "Image: Screenshot-2024-11-04-155202_png.rf.8a01a1c9b2433c32730a71fe53c092f3.jpg - Prediction: Malnourished\n",
            "\u001b[1m1/1\u001b[0m \u001b[32m━━━━━━━━━━━━━━━━━━━━\u001b[0m\u001b[37m\u001b[0m \u001b[1m0s\u001b[0m 85ms/step\n",
            "Image: Screenshot-2024-10-30-155242_png.rf.f2543a4b8751ef1124a7d2f1bb7c623d.jpg - Prediction: Malnourished\n",
            "\u001b[1m1/1\u001b[0m \u001b[32m━━━━━━━━━━━━━━━━━━━━\u001b[0m\u001b[37m\u001b[0m \u001b[1m0s\u001b[0m 71ms/step\n",
            "Image: Screenshot-2024-11-04-155402_png.rf.49c749812dc6d2f3ac7d75eb5463e719.jpg - Prediction: Malnourished\n",
            "\u001b[1m1/1\u001b[0m \u001b[32m━━━━━━━━━━━━━━━━━━━━\u001b[0m\u001b[37m\u001b[0m \u001b[1m0s\u001b[0m 77ms/step\n",
            "Image: Screenshot-2024-11-04-155001_png.rf.1ca2c71745902dcd9af4e5391bbd45d1.jpg - Prediction: Malnourished\n",
            "\u001b[1m1/1\u001b[0m \u001b[32m━━━━━━━━━━━━━━━━━━━━\u001b[0m\u001b[37m\u001b[0m \u001b[1m0s\u001b[0m 79ms/step\n",
            "Image: Screenshot-2024-10-30-155158_png.rf.79041a23fa4abb6b3b43849952d637b8.jpg - Prediction: Malnourished\n",
            "\u001b[1m1/1\u001b[0m \u001b[32m━━━━━━━━━━━━━━━━━━━━\u001b[0m\u001b[37m\u001b[0m \u001b[1m0s\u001b[0m 95ms/step\n",
            "Image: Screenshot-2024-11-04-154419_png.rf.a140e9aa6716f5f6487a15b8fcdccaa0.jpg - Prediction: Malnourished\n",
            "\u001b[1m1/1\u001b[0m \u001b[32m━━━━━━━━━━━━━━━━━━━━\u001b[0m\u001b[37m\u001b[0m \u001b[1m0s\u001b[0m 74ms/step\n",
            "Image: Screenshot-2024-10-30-155509_png.rf.1b8dc811d53db4e7ca8c9c8b087ff702.jpg - Prediction: Malnourished\n",
            "\u001b[1m1/1\u001b[0m \u001b[32m━━━━━━━━━━━━━━━━━━━━\u001b[0m\u001b[37m\u001b[0m \u001b[1m0s\u001b[0m 78ms/step\n",
            "Image: Screenshot-2024-11-04-154241_png.rf.970d77001cce9979f45b4f9ba4d2b99f.jpg - Prediction: Malnourished\n",
            "\u001b[1m1/1\u001b[0m \u001b[32m━━━━━━━━━━━━━━━━━━━━\u001b[0m\u001b[37m\u001b[0m \u001b[1m0s\u001b[0m 83ms/step\n",
            "Image: Screenshot-2024-11-04-153627_png.rf.328a2ee69d7a600d8fcca12a05605b8a.jpg - Prediction: Malnourished\n",
            "\u001b[1m1/1\u001b[0m \u001b[32m━━━━━━━━━━━━━━━━━━━━\u001b[0m\u001b[37m\u001b[0m \u001b[1m0s\u001b[0m 73ms/step\n",
            "Image: Screenshot-2024-11-04-155402_png.rf.79a09f46281ca44c89af9a24a5ccf612.jpg - Prediction: Malnourished\n",
            "\u001b[1m1/1\u001b[0m \u001b[32m━━━━━━━━━━━━━━━━━━━━\u001b[0m\u001b[37m\u001b[0m \u001b[1m0s\u001b[0m 75ms/step\n",
            "Image: Screenshot-2024-11-04-154343_png.rf.7dbeae59251f87dd9bbf3f1a60c20c97.jpg - Prediction: Malnourished\n",
            "\u001b[1m1/1\u001b[0m \u001b[32m━━━━━━━━━━━━━━━━━━━━\u001b[0m\u001b[37m\u001b[0m \u001b[1m0s\u001b[0m 79ms/step\n",
            "Image: Screenshot-2024-10-30-155756_png.rf.b3d629ec26e2bd067c9779b75636bbd3.jpg - Prediction: Malnourished\n",
            "\u001b[1m1/1\u001b[0m \u001b[32m━━━━━━━━━━━━━━━━━━━━\u001b[0m\u001b[37m\u001b[0m \u001b[1m0s\u001b[0m 92ms/step\n",
            "Image: Screenshot-2024-11-04-153837_png.rf.3aa9fbcfffacd5381f5bc18914034f12.jpg - Prediction: Malnourished\n",
            "\u001b[1m1/1\u001b[0m \u001b[32m━━━━━━━━━━━━━━━━━━━━\u001b[0m\u001b[37m\u001b[0m \u001b[1m0s\u001b[0m 73ms/step\n",
            "Image: Screenshot-2024-11-04-154913_png.rf.3af677f51db9cf4fe2cbe6b0802b7dca.jpg - Prediction: Malnourished\n",
            "\u001b[1m1/1\u001b[0m \u001b[32m━━━━━━━━━━━━━━━━━━━━\u001b[0m\u001b[37m\u001b[0m \u001b[1m0s\u001b[0m 74ms/step\n",
            "Image: Screenshot-2024-10-30-155122_png.rf.14e8ffd3e499bd654143467a15fc079f.jpg - Prediction: Malnourished\n",
            "\u001b[1m1/1\u001b[0m \u001b[32m━━━━━━━━━━━━━━━━━━━━\u001b[0m\u001b[37m\u001b[0m \u001b[1m0s\u001b[0m 75ms/step\n",
            "Image: Screenshot-2024-11-04-153627_png.rf.94a8de442406897f58d51479eb11636b.jpg - Prediction: Malnourished\n",
            "\u001b[1m1/1\u001b[0m \u001b[32m━━━━━━━━━━━━━━━━━━━━\u001b[0m\u001b[37m\u001b[0m \u001b[1m0s\u001b[0m 82ms/step\n",
            "Image: Screenshot-2024-11-04-153451_png.rf.2b8b642795f171e119c2022a556b3374.jpg - Prediction: Malnourished\n",
            "\u001b[1m1/1\u001b[0m \u001b[32m━━━━━━━━━━━━━━━━━━━━\u001b[0m\u001b[37m\u001b[0m \u001b[1m0s\u001b[0m 75ms/step\n",
            "Image: Screenshot-2024-10-30-155724_png.rf.30bc05a6fe6863fe2fd1797dc41b28b2.jpg - Prediction: Malnourished\n",
            "\u001b[1m1/1\u001b[0m \u001b[32m━━━━━━━━━━━━━━━━━━━━\u001b[0m\u001b[37m\u001b[0m \u001b[1m0s\u001b[0m 77ms/step\n",
            "Image: Screenshot-2024-11-04-153837_png.rf.254caf70081dfe721c7f02ab4e7a88f7.jpg - Prediction: Malnourished\n",
            "\u001b[1m1/1\u001b[0m \u001b[32m━━━━━━━━━━━━━━━━━━━━\u001b[0m\u001b[37m\u001b[0m \u001b[1m0s\u001b[0m 94ms/step\n",
            "Image: Screenshot-2024-10-30-154944_png.rf.cbd57f42c068af9bdd2203af371cf657.jpg - Prediction: Malnourished\n",
            "\u001b[1m1/1\u001b[0m \u001b[32m━━━━━━━━━━━━━━━━━━━━\u001b[0m\u001b[37m\u001b[0m \u001b[1m0s\u001b[0m 78ms/step\n",
            "Image: Screenshot-2024-10-30-155400_png.rf.31f050027002bb5a98bebb1531807c12.jpg - Prediction: Malnourished\n",
            "\u001b[1m1/1\u001b[0m \u001b[32m━━━━━━━━━━━━━━━━━━━━\u001b[0m\u001b[37m\u001b[0m \u001b[1m0s\u001b[0m 77ms/step\n",
            "Image: Screenshot-2024-11-04-153812_png.rf.a0cadb186daa4e47d03878ec739e7636.jpg - Prediction: Malnourished\n",
            "\u001b[1m1/1\u001b[0m \u001b[32m━━━━━━━━━━━━━━━━━━━━\u001b[0m\u001b[37m\u001b[0m \u001b[1m0s\u001b[0m 80ms/step\n",
            "Image: Screenshot-2024-11-04-154419_png.rf.c6e1dc4bc8d63220555456b40d20497e.jpg - Prediction: Malnourished\n",
            "\u001b[1m1/1\u001b[0m \u001b[32m━━━━━━━━━━━━━━━━━━━━\u001b[0m\u001b[37m\u001b[0m \u001b[1m0s\u001b[0m 91ms/step\n",
            "Image: Screenshot-2024-11-04-154133_png.rf.36d4e53de753ac2954c28f3fd1e39bba.jpg - Prediction: Malnourished\n",
            "\u001b[1m1/1\u001b[0m \u001b[32m━━━━━━━━━━━━━━━━━━━━\u001b[0m\u001b[37m\u001b[0m \u001b[1m0s\u001b[0m 74ms/step\n",
            "Image: Screenshot-2024-10-30-155903_png.rf.f73a780ff0c01ce8fcd5a4403b80eb4b.jpg - Prediction: Malnourished\n",
            "\u001b[1m1/1\u001b[0m \u001b[32m━━━━━━━━━━━━━━━━━━━━\u001b[0m\u001b[37m\u001b[0m \u001b[1m0s\u001b[0m 77ms/step\n",
            "Image: Screenshot-2024-11-04-154307_png.rf.a9a04ed0c331e4584cf299885892484c.jpg - Prediction: Healthy\n",
            "\u001b[1m1/1\u001b[0m \u001b[32m━━━━━━━━━━━━━━━━━━━━\u001b[0m\u001b[37m\u001b[0m \u001b[1m0s\u001b[0m 90ms/step\n",
            "Image: Screenshot-2024-10-30-155724_png.rf.d83770e6247121d931d3ee1f734677ab.jpg - Prediction: Malnourished\n",
            "\u001b[1m1/1\u001b[0m \u001b[32m━━━━━━━━━━━━━━━━━━━━\u001b[0m\u001b[37m\u001b[0m \u001b[1m0s\u001b[0m 82ms/step\n",
            "Image: Screenshot-2024-11-04-155402_png.rf.02fa27eb799741728975dfa94ecfd111.jpg - Prediction: Malnourished\n",
            "\u001b[1m1/1\u001b[0m \u001b[32m━━━━━━━━━━━━━━━━━━━━\u001b[0m\u001b[37m\u001b[0m \u001b[1m0s\u001b[0m 76ms/step\n",
            "Image: Screenshot-2024-10-30-155509_png.rf.80e5ae5fe0dad3269d51c42757625b45.jpg - Prediction: Malnourished\n",
            "\u001b[1m1/1\u001b[0m \u001b[32m━━━━━━━━━━━━━━━━━━━━\u001b[0m\u001b[37m\u001b[0m \u001b[1m0s\u001b[0m 75ms/step\n",
            "Image: Screenshot-2024-11-04-154913_png.rf.bf872503ea8f04da01d893f2ae9989cd.jpg - Prediction: Malnourished\n",
            "\u001b[1m1/1\u001b[0m \u001b[32m━━━━━━━━━━━━━━━━━━━━\u001b[0m\u001b[37m\u001b[0m \u001b[1m0s\u001b[0m 93ms/step\n",
            "Image: Screenshot-2024-10-30-155158_png.rf.6a1cc688e70e16ccddf7b24cd411a80e.jpg - Prediction: Malnourished\n",
            "\u001b[1m1/1\u001b[0m \u001b[32m━━━━━━━━━━━━━━━━━━━━\u001b[0m\u001b[37m\u001b[0m \u001b[1m0s\u001b[0m 75ms/step\n",
            "Image: Screenshot-2024-10-30-155436_png.rf.c2095763dc30ce52d5b9c5230c2203bd.jpg - Prediction: Malnourished\n",
            "\u001b[1m1/1\u001b[0m \u001b[32m━━━━━━━━━━━━━━━━━━━━\u001b[0m\u001b[37m\u001b[0m \u001b[1m0s\u001b[0m 86ms/step\n",
            "Image: Screenshot-2024-10-30-155903_png.rf.471deaa7388b1c35078518e4b40f1c95.jpg - Prediction: Malnourished\n",
            "\u001b[1m1/1\u001b[0m \u001b[32m━━━━━━━━━━━━━━━━━━━━\u001b[0m\u001b[37m\u001b[0m \u001b[1m0s\u001b[0m 93ms/step\n",
            "Image: Screenshot-2024-11-04-155001_png.rf.cb86091beb4f214bf83ad4c368cd6f53.jpg - Prediction: Malnourished\n",
            "\u001b[1m1/1\u001b[0m \u001b[32m━━━━━━━━━━━━━━━━━━━━\u001b[0m\u001b[37m\u001b[0m \u001b[1m0s\u001b[0m 75ms/step\n",
            "Image: Screenshot-2024-11-04-153812_png.rf.d9562be327cca50243f1a269b92a589e.jpg - Prediction: Malnourished\n",
            "\u001b[1m1/1\u001b[0m \u001b[32m━━━━━━━━━━━━━━━━━━━━\u001b[0m\u001b[37m\u001b[0m \u001b[1m0s\u001b[0m 78ms/step\n",
            "Image: Screenshot-2024-10-30-155724_png.rf.dc6dee18bbff4659b64ce3e28bd3e8c1.jpg - Prediction: Malnourished\n",
            "\u001b[1m1/1\u001b[0m \u001b[32m━━━━━━━━━━━━━━━━━━━━\u001b[0m\u001b[37m\u001b[0m \u001b[1m0s\u001b[0m 78ms/step\n",
            "Image: Screenshot-2024-10-30-155122_png.rf.638a19575faf2e0007a8d5b9bca78a2c.jpg - Prediction: Malnourished\n",
            "\u001b[1m1/1\u001b[0m \u001b[32m━━━━━━━━━━━━━━━━━━━━\u001b[0m\u001b[37m\u001b[0m \u001b[1m0s\u001b[0m 100ms/step\n",
            "Image: Screenshot-2024-11-04-155202_png.rf.4213935f867a6ee77e966bdd3ae7e6eb.jpg - Prediction: Malnourished\n",
            "\u001b[1m1/1\u001b[0m \u001b[32m━━━━━━━━━━━━━━━━━━━━\u001b[0m\u001b[37m\u001b[0m \u001b[1m0s\u001b[0m 76ms/step\n",
            "Image: Screenshot-2024-10-30-155400_png.rf.834273ee904521c85822857b0a83fbd6.jpg - Prediction: Malnourished\n",
            "\u001b[1m1/1\u001b[0m \u001b[32m━━━━━━━━━━━━━━━━━━━━\u001b[0m\u001b[37m\u001b[0m \u001b[1m0s\u001b[0m 85ms/step\n",
            "Image: Screenshot-2024-10-30-154902_png.rf.55ae983a98de7298dbd61e9ae80d1176.jpg - Prediction: Malnourished\n",
            "\u001b[1m1/1\u001b[0m \u001b[32m━━━━━━━━━━━━━━━━━━━━\u001b[0m\u001b[37m\u001b[0m \u001b[1m0s\u001b[0m 86ms/step\n",
            "Image: Screenshot-2024-10-30-155242_png.rf.d94acb0a0d81562c7a952f5ba353b4ec.jpg - Prediction: Malnourished\n",
            "\u001b[1m1/1\u001b[0m \u001b[32m━━━━━━━━━━━━━━━━━━━━\u001b[0m\u001b[37m\u001b[0m \u001b[1m0s\u001b[0m 72ms/step\n",
            "Image: Screenshot-2024-11-04-154133_png.rf.4e31477f8822aca98b15fdd10d72847f.jpg - Prediction: Malnourished\n",
            "\u001b[1m1/1\u001b[0m \u001b[32m━━━━━━━━━━━━━━━━━━━━\u001b[0m\u001b[37m\u001b[0m \u001b[1m0s\u001b[0m 76ms/step\n",
            "Image: Screenshot-2024-10-30-154944_png.rf.b5e1e46d7fa35dbb89897fd4ef81f78e.jpg - Prediction: Malnourished\n",
            "\u001b[1m1/1\u001b[0m \u001b[32m━━━━━━━━━━━━━━━━━━━━\u001b[0m\u001b[37m\u001b[0m \u001b[1m0s\u001b[0m 123ms/step\n",
            "Image: Screenshot-2024-11-04-155030_png.rf.3a18f6e195afb81f680506db6ee51e5d.jpg - Prediction: Malnourished\n",
            "\u001b[1m1/1\u001b[0m \u001b[32m━━━━━━━━━━━━━━━━━━━━\u001b[0m\u001b[37m\u001b[0m \u001b[1m0s\u001b[0m 128ms/step\n",
            "Image: Screenshot-2024-10-30-154944_png.rf.d962a5cbae5b1e413d1e28674fbf85fb.jpg - Prediction: Malnourished\n",
            "\u001b[1m1/1\u001b[0m \u001b[32m━━━━━━━━━━━━━━━━━━━━\u001b[0m\u001b[37m\u001b[0m \u001b[1m0s\u001b[0m 154ms/step\n",
            "Image: Screenshot-2024-11-04-155030_png.rf.49aeb7c371a48c7586099c1c3d15deed.jpg - Prediction: Malnourished\n",
            "\u001b[1m1/1\u001b[0m \u001b[32m━━━━━━━━━━━━━━━━━━━━\u001b[0m\u001b[37m\u001b[0m \u001b[1m0s\u001b[0m 130ms/step\n",
            "Image: Screenshot-2024-10-30-155158_png.rf.6e3c8a3a66e1f5b4c74da57249b610c8.jpg - Prediction: Malnourished\n",
            "\u001b[1m1/1\u001b[0m \u001b[32m━━━━━━━━━━━━━━━━━━━━\u001b[0m\u001b[37m\u001b[0m \u001b[1m0s\u001b[0m 124ms/step\n",
            "Image: Screenshot-2024-11-04-155103_png.rf.24fc60543adf741a7a8c81aa6d1221ee.jpg - Prediction: Malnourished\n",
            "\u001b[1m1/1\u001b[0m \u001b[32m━━━━━━━━━━━━━━━━━━━━\u001b[0m\u001b[37m\u001b[0m \u001b[1m0s\u001b[0m 118ms/step\n",
            "Image: Screenshot-2024-11-04-154913_png.rf.95c7300d0ec056ba33b026a6dc253007.jpg - Prediction: Malnourished\n",
            "\u001b[1m1/1\u001b[0m \u001b[32m━━━━━━━━━━━━━━━━━━━━\u001b[0m\u001b[37m\u001b[0m \u001b[1m0s\u001b[0m 114ms/step\n",
            "Image: Screenshot-2024-11-04-155202_png.rf.661b01156f90873c1d0a65a997110844.jpg - Prediction: Malnourished\n",
            "\u001b[1m1/1\u001b[0m \u001b[32m━━━━━━━━━━━━━━━━━━━━\u001b[0m\u001b[37m\u001b[0m \u001b[1m0s\u001b[0m 125ms/step\n",
            "Image: Screenshot-2024-11-04-154307_png.rf.74098e30857888a1dd53715a57800382.jpg - Prediction: Healthy\n",
            "\u001b[1m1/1\u001b[0m \u001b[32m━━━━━━━━━━━━━━━━━━━━\u001b[0m\u001b[37m\u001b[0m \u001b[1m0s\u001b[0m 129ms/step\n",
            "Image: Screenshot-2024-11-04-154241_png.rf.f7c0a9bcc6dade3fafc7130f1c4e7340.jpg - Prediction: Malnourished\n",
            "\u001b[1m1/1\u001b[0m \u001b[32m━━━━━━━━━━━━━━━━━━━━\u001b[0m\u001b[37m\u001b[0m \u001b[1m0s\u001b[0m 116ms/step\n",
            "Image: Screenshot-2024-10-30-154902_png.rf.9b60b2eb7ffa8bc3d0ac55ec16f58823.jpg - Prediction: Malnourished\n",
            "\u001b[1m1/1\u001b[0m \u001b[32m━━━━━━━━━━━━━━━━━━━━\u001b[0m\u001b[37m\u001b[0m \u001b[1m0s\u001b[0m 118ms/step\n",
            "Image: Screenshot-2024-10-30-155756_png.rf.694fb5842942a680820d37edc604f3bf.jpg - Prediction: Malnourished\n",
            "\u001b[1m1/1\u001b[0m \u001b[32m━━━━━━━━━━━━━━━━━━━━\u001b[0m\u001b[37m\u001b[0m \u001b[1m0s\u001b[0m 152ms/step\n",
            "Image: Screenshot-2024-10-30-155436_png.rf.e4280491457f6722dc3a4b70c0288030.jpg - Prediction: Malnourished\n",
            "\u001b[1m1/1\u001b[0m \u001b[32m━━━━━━━━━━━━━━━━━━━━\u001b[0m\u001b[37m\u001b[0m \u001b[1m0s\u001b[0m 117ms/step\n",
            "Image: Screenshot-2024-11-04-153627_png.rf.56025a74e93b558e67b49c80cca748a6.jpg - Prediction: Malnourished\n",
            "\u001b[1m1/1\u001b[0m \u001b[32m━━━━━━━━━━━━━━━━━━━━\u001b[0m\u001b[37m\u001b[0m \u001b[1m0s\u001b[0m 123ms/step\n",
            "Image: Screenshot-2024-11-04-154006_png.rf.de517b8e87d8585b481a1db6033a83a1.jpg - Prediction: Malnourished\n",
            "\u001b[1m1/1\u001b[0m \u001b[32m━━━━━━━━━━━━━━━━━━━━\u001b[0m\u001b[37m\u001b[0m \u001b[1m0s\u001b[0m 146ms/step\n",
            "Image: Screenshot-2024-11-04-153837_png.rf.49703fe8397a511b280b2e4ea10db6f9.jpg - Prediction: Malnourished\n",
            "\u001b[1m1/1\u001b[0m \u001b[32m━━━━━━━━━━━━━━━━━━━━\u001b[0m\u001b[37m\u001b[0m \u001b[1m0s\u001b[0m 145ms/step\n",
            "Image: Screenshot-2024-11-04-154307_png.rf.0d6128f22127e00987f7fb9b72b79595.jpg - Prediction: Healthy\n",
            "\u001b[1m1/1\u001b[0m \u001b[32m━━━━━━━━━━━━━━━━━━━━\u001b[0m\u001b[37m\u001b[0m \u001b[1m0s\u001b[0m 79ms/step\n",
            "Image: Screenshot-2024-11-04-153939_png.rf.372961351a5e6fea25767870f3892192.jpg - Prediction: Malnourished\n",
            "\u001b[1m1/1\u001b[0m \u001b[32m━━━━━━━━━━━━━━━━━━━━\u001b[0m\u001b[37m\u001b[0m \u001b[1m0s\u001b[0m 71ms/step\n",
            "Image: Screenshot-2024-11-04-154419_png.rf.ed053a1482378797ddf399eb3b2ad64f.jpg - Prediction: Malnourished\n",
            "\u001b[1m1/1\u001b[0m \u001b[32m━━━━━━━━━━━━━━━━━━━━\u001b[0m\u001b[37m\u001b[0m \u001b[1m0s\u001b[0m 77ms/step\n",
            "Image: Screenshot-2024-11-04-154006_png.rf.2ec700f130567f6c92c50a5cc1ecfa4e.jpg - Prediction: Malnourished\n",
            "\u001b[1m1/1\u001b[0m \u001b[32m━━━━━━━━━━━━━━━━━━━━\u001b[0m\u001b[37m\u001b[0m \u001b[1m0s\u001b[0m 86ms/step\n",
            "Image: Screenshot-2024-11-04-155103_png.rf.79cc3d42d40de8337225a2e8ff944e13.jpg - Prediction: Malnourished\n",
            "\u001b[1m1/1\u001b[0m \u001b[32m━━━━━━━━━━━━━━━━━━━━\u001b[0m\u001b[37m\u001b[0m \u001b[1m0s\u001b[0m 74ms/step\n",
            "Image: Screenshot-2024-11-04-153939_png.rf.caa5c1fcdce89876667fedc542883ed3.jpg - Prediction: Malnourished\n",
            "\u001b[1m1/1\u001b[0m \u001b[32m━━━━━━━━━━━━━━━━━━━━\u001b[0m\u001b[37m\u001b[0m \u001b[1m0s\u001b[0m 76ms/step\n",
            "Image: Screenshot-2024-10-30-155330_png.rf.b534f76e5e2c89d3b53b44e5ba029840.jpg - Prediction: Malnourished\n",
            "\u001b[1m1/1\u001b[0m \u001b[32m━━━━━━━━━━━━━━━━━━━━\u001b[0m\u001b[37m\u001b[0m \u001b[1m0s\u001b[0m 110ms/step\n",
            "Image: Screenshot-2024-10-30-155436_png.rf.70f4652889db113ffd89365c63680e4f.jpg - Prediction: Malnourished\n",
            "\u001b[1m1/1\u001b[0m \u001b[32m━━━━━━━━━━━━━━━━━━━━\u001b[0m\u001b[37m\u001b[0m \u001b[1m0s\u001b[0m 81ms/step\n",
            "Image: Screenshot-2024-10-30-154902_png.rf.14837552a215270297ad3040b252fc5a.jpg - Prediction: Malnourished\n",
            "\u001b[1m1/1\u001b[0m \u001b[32m━━━━━━━━━━━━━━━━━━━━\u001b[0m\u001b[37m\u001b[0m \u001b[1m0s\u001b[0m 77ms/step\n",
            "Image: Screenshot-2024-10-30-155756_png.rf.148ecb40cc117fce907217254da13f18.jpg - Prediction: Malnourished\n",
            "\u001b[1m1/1\u001b[0m \u001b[32m━━━━━━━━━━━━━━━━━━━━\u001b[0m\u001b[37m\u001b[0m \u001b[1m0s\u001b[0m 79ms/step\n",
            "Image: Screenshot-2024-10-30-155122_png.rf.7e2ffbb85dd094994fac5431ead6d89b.jpg - Prediction: Malnourished\n",
            "\u001b[1m1/1\u001b[0m \u001b[32m━━━━━━━━━━━━━━━━━━━━\u001b[0m\u001b[37m\u001b[0m \u001b[1m0s\u001b[0m 79ms/step\n",
            "Image: Screenshot-2024-11-04-153451_png.rf.9338abd279519267fd095b1a5aeb1c73.jpg - Prediction: Malnourished\n",
            "\u001b[1m1/1\u001b[0m \u001b[32m━━━━━━━━━━━━━━━━━━━━\u001b[0m\u001b[37m\u001b[0m \u001b[1m0s\u001b[0m 76ms/step\n",
            "Image: Screenshot-2024-10-30-155903_png.rf.8e4ec62c3ab9699069910eb75220449a.jpg - Prediction: Malnourished\n",
            "\u001b[1m1/1\u001b[0m \u001b[32m━━━━━━━━━━━━━━━━━━━━\u001b[0m\u001b[37m\u001b[0m \u001b[1m0s\u001b[0m 80ms/step\n",
            "Image: Screenshot-2024-10-30-155400_png.rf.1e47864a4010aa314481fd87f22455f5.jpg - Prediction: Malnourished\n",
            "\u001b[1m1/1\u001b[0m \u001b[32m━━━━━━━━━━━━━━━━━━━━\u001b[0m\u001b[37m\u001b[0m \u001b[1m0s\u001b[0m 110ms/step\n",
            "Image: Screenshot-2024-11-04-154133_png.rf.d9d5caf0457d2865b348a2e5c8318cc0.jpg - Prediction: Malnourished\n",
            "\u001b[1m1/1\u001b[0m \u001b[32m━━━━━━━━━━━━━━━━━━━━\u001b[0m\u001b[37m\u001b[0m \u001b[1m0s\u001b[0m 85ms/step\n",
            "Image: Screenshot-2024-11-04-153812_png.rf.b76ccb148890a785be751649ea8284c8.jpg - Prediction: Malnourished\n",
            "\u001b[1m1/1\u001b[0m \u001b[32m━━━━━━━━━━━━━━━━━━━━\u001b[0m\u001b[37m\u001b[0m \u001b[1m0s\u001b[0m 76ms/step\n",
            "Image: Screenshot-2024-11-04-153939_png.rf.2cbb485e5361364157accbdea26e737a.jpg - Prediction: Malnourished\n",
            "\u001b[1m1/1\u001b[0m \u001b[32m━━━━━━━━━━━━━━━━━━━━\u001b[0m\u001b[37m\u001b[0m \u001b[1m0s\u001b[0m 77ms/step\n",
            "Image: Screenshot-2024-11-04-155001_png.rf.3644f439e629190afdd1edde480f2182.jpg - Prediction: Malnourished\n",
            "\u001b[1m1/1\u001b[0m \u001b[32m━━━━━━━━━━━━━━━━━━━━\u001b[0m\u001b[37m\u001b[0m \u001b[1m0s\u001b[0m 79ms/step\n",
            "Image: Screenshot-2024-10-30-155509_png.rf.a50969a64dc975a5111eef8819bce9ef.jpg - Prediction: Malnourished\n",
            "\u001b[1m1/1\u001b[0m \u001b[32m━━━━━━━━━━━━━━━━━━━━\u001b[0m\u001b[37m\u001b[0m \u001b[1m0s\u001b[0m 82ms/step\n",
            "Image: Screenshot-2024-10-30-155330_png.rf.4a603d1deaf01ad1a2e8d9112879a82e.jpg - Prediction: Malnourished\n",
            "Predicting on Valid Data...\n",
            "\u001b[1m1/1\u001b[0m \u001b[32m━━━━━━━━━━━━━━━━━━━━\u001b[0m\u001b[37m\u001b[0m \u001b[1m0s\u001b[0m 77ms/step\n",
            "Image: Screenshot-2024-10-30-154217_png.rf.f4dbf41fa0c4294f639876de5c8f0451.jpg - Prediction: Malnourished\n",
            "\u001b[1m1/1\u001b[0m \u001b[32m━━━━━━━━━━━━━━━━━━━━\u001b[0m\u001b[37m\u001b[0m \u001b[1m0s\u001b[0m 114ms/step\n",
            "Image: Screenshot-2024-11-04-154527_png.rf.034b641cbb53704d977e6a2c88d14e08.jpg - Prediction: Malnourished\n",
            "\u001b[1m1/1\u001b[0m \u001b[32m━━━━━━━━━━━━━━━━━━━━\u001b[0m\u001b[37m\u001b[0m \u001b[1m0s\u001b[0m 75ms/step\n",
            "Image: Screenshot-2024-11-04-151649_png.rf.09ce3f4b132a9eea3dd482a45aa167db.jpg - Prediction: Malnourished\n",
            "\u001b[1m1/1\u001b[0m \u001b[32m━━━━━━━━━━━━━━━━━━━━\u001b[0m\u001b[37m\u001b[0m \u001b[1m0s\u001b[0m 80ms/step\n",
            "Image: Screenshot-2024-10-30-153640_png.rf.ad82ae4bb4dd16e4ea08d87111ca5595.jpg - Prediction: Malnourished\n",
            "\u001b[1m1/1\u001b[0m \u001b[32m━━━━━━━━━━━━━━━━━━━━\u001b[0m\u001b[37m\u001b[0m \u001b[1m0s\u001b[0m 80ms/step\n",
            "Image: Screenshot-2024-11-04-153156_png.rf.68cbe653a6d7da3b5adde358618b437d.jpg - Prediction: Malnourished\n",
            "\u001b[1m1/1\u001b[0m \u001b[32m━━━━━━━━━━━━━━━━━━━━\u001b[0m\u001b[37m\u001b[0m \u001b[1m0s\u001b[0m 75ms/step\n",
            "Image: Screenshot-2024-10-30-153411_png.rf.76633b2d3ac3617eb6001f53f11a7e52.jpg - Prediction: Malnourished\n",
            "\u001b[1m1/1\u001b[0m \u001b[32m━━━━━━━━━━━━━━━━━━━━\u001b[0m\u001b[37m\u001b[0m \u001b[1m0s\u001b[0m 77ms/step\n",
            "Image: Screenshot-2024-10-30-153607_png.rf.6e5466370eb2cfad83542ea04b5a836e.jpg - Prediction: Malnourished\n",
            "\u001b[1m1/1\u001b[0m \u001b[32m━━━━━━━━━━━━━━━━━━━━\u001b[0m\u001b[37m\u001b[0m \u001b[1m0s\u001b[0m 74ms/step\n",
            "Image: Screenshot-2024-11-04-155450_png.rf.9d37116bd049f697e97ed7078849f997.jpg - Prediction: Malnourished\n",
            "\u001b[1m1/1\u001b[0m \u001b[32m━━━━━━━━━━━━━━━━━━━━\u001b[0m\u001b[37m\u001b[0m \u001b[1m0s\u001b[0m 114ms/step\n",
            "Image: Screenshot-2024-11-04-152748_png.rf.f9c7c17f1fad95cfd16c85668ba05299.jpg - Prediction: Malnourished\n",
            "\u001b[1m1/1\u001b[0m \u001b[32m━━━━━━━━━━━━━━━━━━━━\u001b[0m\u001b[37m\u001b[0m \u001b[1m0s\u001b[0m 76ms/step\n",
            "Image: Screenshot-2024-11-04-152819_png.rf.20429720e593b7322b5a01963f227827.jpg - Prediction: Malnourished\n",
            "\u001b[1m1/1\u001b[0m \u001b[32m━━━━━━━━━━━━━━━━━━━━\u001b[0m\u001b[37m\u001b[0m \u001b[1m0s\u001b[0m 76ms/step\n",
            "Image: Screenshot-2024-10-30-153148_png.rf.6fc174d086df9aef18213640438ff3e3.jpg - Prediction: Malnourished\n",
            "\u001b[1m1/1\u001b[0m \u001b[32m━━━━━━━━━━━━━━━━━━━━\u001b[0m\u001b[37m\u001b[0m \u001b[1m0s\u001b[0m 74ms/step\n",
            "Image: Screenshot-2024-11-04-152047_png.rf.33104225e45fd08f99773c9efe0c56ac.jpg - Prediction: Malnourished\n",
            "\u001b[1m1/1\u001b[0m \u001b[32m━━━━━━━━━━━━━━━━━━━━\u001b[0m\u001b[37m\u001b[0m \u001b[1m0s\u001b[0m 79ms/step\n",
            "Image: Screenshot-2024-10-30-153333_png.rf.79e5b614839b7288e13b8719287861e4.jpg - Prediction: Malnourished\n",
            "\u001b[1m1/1\u001b[0m \u001b[32m━━━━━━━━━━━━━━━━━━━━\u001b[0m\u001b[37m\u001b[0m \u001b[1m0s\u001b[0m 77ms/step\n",
            "Image: Screenshot-2024-11-04-152945_png.rf.d8902580b8d9e5ade279b49917bdfbdc.jpg - Prediction: Malnourished\n",
            "\u001b[1m1/1\u001b[0m \u001b[32m━━━━━━━━━━━━━━━━━━━━\u001b[0m\u001b[37m\u001b[0m \u001b[1m0s\u001b[0m 77ms/step\n",
            "Image: Screenshot-2024-11-04-152624_png.rf.613931662d6cad5be38e98fd69da1eca.jpg - Prediction: Malnourished\n",
            "\u001b[1m1/1\u001b[0m \u001b[32m━━━━━━━━━━━━━━━━━━━━\u001b[0m\u001b[37m\u001b[0m \u001b[1m0s\u001b[0m 110ms/step\n",
            "Image: Screenshot-2024-11-04-151721_png.rf.f81c085cd60cc019198e4363c880d2e2.jpg - Prediction: Malnourished\n",
            "\u001b[1m1/1\u001b[0m \u001b[32m━━━━━━━━━━━━━━━━━━━━\u001b[0m\u001b[37m\u001b[0m \u001b[1m0s\u001b[0m 75ms/step\n",
            "Image: Screenshot-2024-11-04-153741_png.rf.9d4dbb48e30ffd6d511f686155b7225f.jpg - Prediction: Malnourished\n",
            "\u001b[1m1/1\u001b[0m \u001b[32m━━━━━━━━━━━━━━━━━━━━\u001b[0m\u001b[37m\u001b[0m \u001b[1m0s\u001b[0m 79ms/step\n",
            "Image: Screenshot-2024-11-04-154042_png.rf.1758324fa4fb3c8dc65ab2fd956836b5.jpg - Prediction: Malnourished\n",
            "\u001b[1m1/1\u001b[0m \u001b[32m━━━━━━━━━━━━━━━━━━━━\u001b[0m\u001b[37m\u001b[0m \u001b[1m0s\u001b[0m 84ms/step\n",
            "Image: Screenshot-2024-10-30-155029_png.rf.b02caab01e5e7b9fa97c7da1879fc790.jpg - Prediction: Malnourished\n",
            "\u001b[1m1/1\u001b[0m \u001b[32m━━━━━━━━━━━━━━━━━━━━\u001b[0m\u001b[37m\u001b[0m \u001b[1m0s\u001b[0m 73ms/step\n",
            "Image: Screenshot-2024-11-04-153905_png.rf.f3b597f679bb3f61f00d1c864a4182e8.jpg - Prediction: Malnourished\n",
            "\u001b[1m1/1\u001b[0m \u001b[32m━━━━━━━━━━━━━━━━━━━━\u001b[0m\u001b[37m\u001b[0m \u001b[1m0s\u001b[0m 72ms/step\n",
            "Image: Screenshot-2024-11-04-151530_png.rf.859571b5c40b45794d346eba64b64aa9.jpg - Prediction: Malnourished\n",
            "\u001b[1m1/1\u001b[0m \u001b[32m━━━━━━━━━━━━━━━━━━━━\u001b[0m\u001b[37m\u001b[0m \u001b[1m0s\u001b[0m 92ms/step\n",
            "Image: Screenshot-2024-11-04-154838_png.rf.2bd00142faa8fe1fe519cefbf1397c90.jpg - Prediction: Malnourished\n",
            "\u001b[1m1/1\u001b[0m \u001b[32m━━━━━━━━━━━━━━━━━━━━\u001b[0m\u001b[37m\u001b[0m \u001b[1m0s\u001b[0m 78ms/step\n",
            "Image: Screenshot-2024-11-04-155247_png.rf.e5937da6158c34a4a75160ed75216852.jpg - Prediction: Malnourished\n",
            "\u001b[1m1/1\u001b[0m \u001b[32m━━━━━━━━━━━━━━━━━━━━\u001b[0m\u001b[37m\u001b[0m \u001b[1m0s\u001b[0m 72ms/step\n",
            "Image: Screenshot-2024-10-30-155826_png.rf.67ffdcbe935dd42d15e506f81fc8f6b7.jpg - Prediction: Malnourished\n",
            "\u001b[1m1/1\u001b[0m \u001b[32m━━━━━━━━━━━━━━━━━━━━\u001b[0m\u001b[37m\u001b[0m \u001b[1m0s\u001b[0m 81ms/step\n",
            "Image: Screenshot-2024-10-30-160004_png.rf.5bff215efcb223d2651798166e75be8b.jpg - Prediction: Malnourished\n"
          ]
        }
      ]
    }
  ],
  "metadata": {
    "colab": {
      "provenance": [],
      "include_colab_link": true
    },
    "kernelspec": {
      "display_name": "Python 3",
      "name": "python3"
    },
    "language_info": {
      "name": "python"
    }
  },
  "nbformat": 4,
  "nbformat_minor": 0
}